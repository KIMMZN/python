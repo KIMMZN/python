{
 "cells": [
  {
   "cell_type": "code",
   "execution_count": 13,
   "metadata": {},
   "outputs": [
    {
     "name": "stdout",
     "output_type": "stream",
     "text": [
      "0\n",
      "1\n",
      "2\n",
      "3\n",
      "4\n"
     ]
    }
   ],
   "source": [
    "for i in range(10):\n",
    "    if i == 5:\n",
    "        break\n",
    "    print(i)"
   ]
  },
  {
   "cell_type": "code",
   "execution_count": 14,
   "metadata": {},
   "outputs": [
    {
     "name": "stdout",
     "output_type": "stream",
     "text": [
      "0\n",
      "1\n",
      "2\n",
      "3\n",
      "4\n",
      "반복문\n"
     ]
    }
   ],
   "source": [
    "for i in range(5):\n",
    "    print(i)\n",
    "else:\n",
    "    print(\"반복문\")"
   ]
  },
  {
   "cell_type": "code",
   "execution_count": 15,
   "metadata": {},
   "outputs": [
    {
     "ename": "SyntaxError",
     "evalue": "incomplete input (2213876541.py, line 1)",
     "output_type": "error",
     "traceback": [
      "\u001b[1;36m  Cell \u001b[1;32mIn[15], line 1\u001b[1;36m\u001b[0m\n\u001b[1;33m    for i in range(10):\u001b[0m\n\u001b[1;37m                       ^\u001b[0m\n\u001b[1;31mSyntaxError\u001b[0m\u001b[1;31m:\u001b[0m incomplete input\n"
     ]
    }
   ],
   "source": [
    "for i in range(10):"
   ]
  },
  {
   "cell_type": "code",
   "execution_count": 16,
   "metadata": {},
   "outputs": [
    {
     "ename": "SyntaxError",
     "evalue": "incomplete input (2213876541.py, line 1)",
     "output_type": "error",
     "traceback": [
      "\u001b[1;36m  Cell \u001b[1;32mIn[16], line 1\u001b[1;36m\u001b[0m\n\u001b[1;33m    for i in range(10):\u001b[0m\n\u001b[1;37m                       ^\u001b[0m\n\u001b[1;31mSyntaxError\u001b[0m\u001b[1;31m:\u001b[0m incomplete input\n"
     ]
    }
   ],
   "source": [
    "for i in range(10):"
   ]
  },
  {
   "cell_type": "code",
   "execution_count": 20,
   "metadata": {},
   "outputs": [
    {
     "name": "stdout",
     "output_type": "stream",
     "text": [
      "2\n",
      "4\n",
      "6\n",
      "8\n"
     ]
    }
   ],
   "source": [
    "for i in range(1, 10):\n",
    "    if i %2 == 0:\n",
    "        print(i)"
   ]
  },
  {
   "cell_type": "code",
   "execution_count": 36,
   "metadata": {},
   "outputs": [
    {
     "name": "stdout",
     "output_type": "stream",
     "text": [
      "생성된 로또 번호: [4, 14, 20, 36, 38, 45]\n",
      "세트 1: [19, 21, 28, 30, 32, 36]\n",
      "세트 2: [9, 14, 23, 30, 34, 38]\n",
      "세트 3: [7, 14, 17, 29, 40, 42]\n",
      "세트 4: [6, 8, 11, 13, 16, 36]\n",
      "세트 5: [4, 7, 16, 33, 37, 45]\n",
      "세트 6: [3, 6, 24, 34, 38, 43]\n",
      "세트 7: [4, 15, 24, 36, 38, 41]\n",
      "세트 8: [3, 8, 16, 26, 30, 38]\n",
      "세트 9: [2, 5, 12, 13, 26, 41]\n",
      "세트 10: [3, 6, 23, 30, 35, 38]\n"
     ]
    }
   ],
   "source": [
    "import random\n",
    "\n",
    "def generate_lotto_numbers():\n",
    "    \"\"\"\n",
    "    1부터 45까지의 숫자 중에서 중복되지 않는 6개의 숫자를 무작위로 선택하여 반환합니다.\n",
    "    반환되는 숫자는 오름차순으로 정렬됩니다.\n",
    "    \"\"\"\n",
    "    # 1부터 45까지의 숫자 중에서 6개를 무작위로 선택\n",
    "    lotto_numbers = random.sample(range(1, 46), 6)\n",
    "    \n",
    "    # 선택된 번호를 오름차순으로 정렬\n",
    "    lotto_numbers.sort()\n",
    "    \n",
    "    return lotto_numbers\n",
    "\n",
    "# 로또 번호 생성 예시\n",
    "numbers = generate_lotto_numbers()\n",
    "print(f\"생성된 로또 번호: {numbers}\")\n",
    "\n",
    "# 여러 개의 로또 번호 세트를 생성하고 싶을 때\n",
    "def generate_multiple_sets(num_sets):\n",
    "    \"\"\"\n",
    "    지정된 수만큼의 로또 번호 세트를 생성합니다.\n",
    "    \n",
    "    매개변수:\n",
    "    num_sets (int): 생성할 로또 번호 세트의 개수\n",
    "    \"\"\"\n",
    "    all_numbers = []\n",
    "    for _ in range(num_sets):\n",
    "        all_numbers.append(generate_lotto_numbers())\n",
    "    return all_numbers\n",
    "\n",
    "# 5개의 로또 번호 세트 생성 예시\n",
    "multiple_sets = generate_multiple_sets(10)\n",
    "for i, numbers in enumerate(multiple_sets, 1):\n",
    "    print(f\"세트 {i}: {numbers}\")"
   ]
  },
  {
   "cell_type": "code",
   "execution_count": null,
   "metadata": {},
   "outputs": [],
   "source": []
  }
 ],
 "metadata": {
  "kernelspec": {
   "display_name": ".venv",
   "language": "python",
   "name": "python3"
  },
  "language_info": {
   "codemirror_mode": {
    "name": "ipython",
    "version": 3
   },
   "file_extension": ".py",
   "mimetype": "text/x-python",
   "name": "python",
   "nbconvert_exporter": "python",
   "pygments_lexer": "ipython3",
   "version": "3.12.8"
  }
 },
 "nbformat": 4,
 "nbformat_minor": 2
}
