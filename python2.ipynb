{
 "cells": [
  {
   "cell_type": "code",
   "execution_count": 3,
   "metadata": {},
   "outputs": [
    {
     "name": "stdout",
     "output_type": "stream",
     "text": [
      "안녕하세요\n"
     ]
    }
   ],
   "source": [
    "#매개변수가 없는 함수\n",
    "\n",
    "def greet():\n",
    "    print(\"안녕하세요\")\n",
    "\n",
    "greet() #출력: 안녕하세요"
   ]
  },
  {
   "cell_type": "code",
   "execution_count": 5,
   "metadata": {},
   "outputs": [
    {
     "name": "stdout",
     "output_type": "stream",
     "text": [
      "8\n"
     ]
    }
   ],
   "source": [
    "#매개변수가 있는 함수\n",
    "\n",
    "def add(a, b):\n",
    "    return a + b\n",
    "\n",
    "result = add(3,5)\n",
    "print(result) # 출력 8"
   ]
  },
  {
   "cell_type": "code",
   "execution_count": 15,
   "metadata": {},
   "outputs": [
    {
     "name": "stdout",
     "output_type": "stream",
     "text": [
      "안녕하세요, 홍길동님!\n",
      "안녕하세요, 준호님!\n",
      "안녕하세요, 하니!\n",
      "24\n"
     ]
    }
   ],
   "source": [
    "#기본값 매개변수 사용\n",
    "\n",
    "def greet(name=\"홍길동님\"):\n",
    "    print(f\"안녕하세요, {name}!\")\n",
    "greet() #출력: 안녕하세요 홍길동님!\n",
    "greet(\"준호님\") #출력: 안녕하세요, 준호님 !\n",
    "greet(\"하니\")\n",
    "\n",
    "#가변 매개변수 사용\n",
    "# args: 임의의 개수의 숫자를 받아들임\n",
    "\n",
    "def multiply(*args):\n",
    "    result = 1\n",
    "    for num in args:\n",
    "        result *= num\n",
    "    return result\n",
    "\n",
    "print(multiply(2,3,4)) #출력: 24"
   ]
  },
  {
   "cell_type": "code",
   "execution_count": 23,
   "metadata": {},
   "outputs": [
    {
     "name": "stdout",
     "output_type": "stream",
     "text": [
      "양수입니다.\n",
      "음수입니다.\n",
      "0입니다.\n",
      "로그인 성공\n",
      "로그인 실패\n"
     ]
    }
   ],
   "source": [
    "#if문 활용 예시 (1)\n",
    "def check_number(num):\n",
    "    \"\"\"숫자가 양수, 음수, 또는 0인지 확인\"\"\"\n",
    "    if num > 0:\n",
    "        return \"양수입니다.\"\n",
    "    elif num < 0:\n",
    "        return \"음수입니다.\"\n",
    "    else:\n",
    "        return \"0입니다.\"\n",
    "    \n",
    "print(check_number(5))\n",
    "print(check_number(-3))\n",
    "print(check_number(0))\n",
    "\n",
    "#if문 활용 예시(2)\n",
    "def login_check(username, password):\n",
    "    \"\"\" 사용자 이름과 비밀번호를 확인\"\"\"\n",
    "    if username == \"admin\" and password == \"1234\":\n",
    "        return \"로그인 성공\"\n",
    "    else:\n",
    "        return \"로그인 실패\"\n",
    "\n",
    "print(login_check(\"admin\", \"1234\")) # 출력: 로그인 성공\n",
    "print(login_check(\"admin\", \"5678\")) # 출력: 로그인 실패"
   ]
  },
  {
   "cell_type": "code",
   "execution_count": 30,
   "metadata": {},
   "outputs": [
    {
     "name": "stdout",
     "output_type": "stream",
     "text": [
      "9\n",
      "[2, 4, 6, 8, 10]\n"
     ]
    }
   ],
   "source": [
    "#for문 활요 예시(1)\n",
    "# 리스트에서 최대값을 찾는 함수\n",
    "def find_max(numbers):\n",
    "    max_num = numbers[0]\n",
    "    for num in numbers:\n",
    "        if num > max_num:\n",
    "            max_num = num\n",
    "    return max_num\n",
    "\n",
    "numbers = [1,5,3,9,2]\n",
    "print(find_max(numbers))\n",
    "\n",
    "#for문 활용 예시(2)\n",
    "#주어진 범위 내의 짝수만 반환하는 함수\n",
    "def get_even_numbers(start, end):\n",
    "    even_nums = []\n",
    "    for num in range(start, end+1):\n",
    "        if num % 2 == 0:\n",
    "            even_nums.append(num)\n",
    "    return even_nums\n",
    "\n",
    "print(get_even_numbers(1, 10)) #출력 : [2,4,6,8,10]"
   ]
  },
  {
   "cell_type": "code",
   "execution_count": 39,
   "metadata": {},
   "outputs": [
    {
     "name": "stdout",
     "output_type": "stream",
     "text": [
      "1개월차: (200000,)원 저축\n",
      "2개월차: (400000,)원 저축\n",
      "3개월차: (600000,)원 저축\n",
      "4개월차: (800000,)원 저축\n",
      "5개월차: (1000000,)원 저축\n",
      "5개월 만에 목표 금액 달성!\n",
      "정답입니다! 1번 만에 맞추셧습니다.\n"
     ]
    }
   ],
   "source": [
    "# while문 활용 예시(1)\n",
    "# 목표 금액 모을 때까지 저축하는 시뮬레이션 함수\n",
    "def saving_simulation(target_amount, monthly_saving):\n",
    "    total = 0\n",
    "    months = 0\n",
    "    while total < target_amount:\n",
    "        total += monthly_saving\n",
    "        months += 1\n",
    "        print(f\"{months}개월차: {total,}원 저축\") # {total:,}에서 콤마는 1000단위 구분\n",
    "    return f\"{months}개월 만에 목표 금액 달성!\"\n",
    "\n",
    "print(saving_simulation(1000000, 200000)) #출력: 5개월 만에 목표 금액 달성\n",
    "\n",
    "#while문 활용 예시(2)\n",
    "#숫자 맞추기 게임 함수\n",
    "def guess_number(answer):\n",
    "    count = 0\n",
    "    guess = None # 아무값도 할당하지 않은 상태\n",
    "    while guess != answer: #!= 같지않다 의미의 비교 연산자\n",
    "        guess = int(input(\"1부터 100 사이의 숫자를 맞춰보세요: \"))\n",
    "        count += 1\n",
    "        if guess < answer:\n",
    "            print(\"더 큰 숫자입니다!\")\n",
    "        elif guess > answer:\n",
    "            print(\"더 작은 숫자입니다!\")\n",
    "    return f\"정답입니다! {count}번 만에 맞추셧습니다.\"\n",
    "\n",
    "print(guess_number(77))"
   ]
  },
  {
   "cell_type": "code",
   "execution_count": 42,
   "metadata": {},
   "outputs": [
    {
     "name": "stdout",
     "output_type": "stream",
     "text": [
      "===== 데이터 정규화 예제 ====\n",
      "원본 데이터: [10, 20, 30, 40, 50]\n",
      "정규화된 데이터: [0.0, 0.25, 0.5, 0.75, 1.0]\n"
     ]
    }
   ],
   "source": [
    "#응용 예시(1)\n",
    "#데이터 정규화 함수(cf. 정규화: 서로 다른 범위의 값들을 비교할 때, 값들을 동일한 기준으로 맞춤)\n",
    "def normalize_data(numbers):\n",
    "    \"\"\"\n",
    "    데이터를 0~1 사이의 값으로 정규화하는 함수\n",
    "    정규화 = (값- 최소값)/(최대값 - 최소값)\n",
    "    매개변수:\n",
    "        numbers: 정규화할 숫자 리스트\n",
    "    반환값:\n",
    "        정규화딘 데이터 리스트(0~1 사이의 값)\n",
    "    \"\"\"\n",
    "    min_value = min(numbers) #데이터의 최소값\n",
    "    max_value = max(numbers) # 데이터의 최대값\n",
    "    normalized = [] # 정규화된 값을 저장할 리스트\n",
    "    \n",
    "    for num in numbers:\n",
    "        #정규화 공식 적용\n",
    "        norm_value = (num - min_value) / (max_value - min_value)\n",
    "        normalized.append(norm_value)\n",
    "    return normalized\n",
    "\n",
    "data = [10,20,30,40,50]\n",
    "print(\"===== 데이터 정규화 예제 ====\")\n",
    "print(\"원본 데이터:\", data) #출력: 원본데이터 : [10,20,30,40,50]\n",
    "nomalized = normalize_data(data)\n",
    "print(\"정규화된 데이터:\", nomalized) #출력: [0.0, 0.25, 0.5, 0.75, 1.0]"
   ]
  },
  {
   "cell_type": "code",
   "execution_count": 46,
   "metadata": {},
   "outputs": [
    {
     "name": "stdout",
     "output_type": "stream",
     "text": [
      "==== 데이터 분할 예제 ====\n",
      "전체 데이터: [1, 2, 3, 4, 5, 6, 7, 8, 9, 10]\n",
      "\\기본 비율(80%)로 분할:\n",
      "학습 데이터: [1, 2, 3, 4, 5, 6, 7, 8]\n",
      "테스트 데이터: [9, 10]\n"
     ]
    }
   ],
   "source": [
    "#응용예시(2)\n",
    "#데이터 분할 함수\n",
    "def split_data(data, train_ratio = 0.8):\n",
    "    \"\"\"\n",
    "    데이터를 학습용과 테스트용으로 분리하는 함수\n",
    "    매개변수:\n",
    "        data: 분할할 데이터 리스트\n",
    "        train_ratio: 학습 데이터의 비율(기본값 0.8 = 80%)\n",
    "    반환값:\n",
    "        train_data: 학습용 데이터\n",
    "        test_data: 테스트용 데이터    \n",
    "    \"\"\"\n",
    "    #학습 데이터 개수 계산\n",
    "    split_index = int(len(data) * train_ratio) # len 함수: 문자열, 리스트, 튜플 등 길이 측정\n",
    "    #데이터 분할\n",
    "    train_data = data[:split_index] #처음부터 split_index까지\n",
    "    test_data = data[split_index:] #split_index부터 끝까지\n",
    "    return train_data, test_data\n",
    "#데이터 분할 함수 사용 예시\n",
    "full_data = [1,2,3,4,5,6,7,8,9,10]\n",
    "print(\"==== 데이터 분할 예제 ====\")\n",
    "print(\"전체 데이터:\", full_data)  #콤마(,) 로 결과로 나오는 리스트의 요소 값을 구분\n",
    "#80:20으로 분할\n",
    "train, test = split_data(full_data)\n",
    "print(\"\\기본 비율(80%)로 분할:\")\n",
    "print(\"학습 데이터:\", train) #학습 데이터: [1,2,3,4,5,6,7,8]\n",
    "print(\"테스트 데이터:\", test)  #테스트 데이터: [9,10]"
   ]
  },
  {
   "cell_type": "code",
   "execution_count": null,
   "metadata": {},
   "outputs": [],
   "source": []
  },
  {
   "cell_type": "markdown",
   "metadata": {},
   "source": [
    "# 람다함수\n",
    "* 익명함수로 이름없이 간단히 사용이 가능\n",
    "* lambda 키워드를 사용해 작성하며, 한 줄로 작성되는 간단한 함수에 적합\n",
    "\n",
    "특징\n"
   ]
  },
  {
   "cell_type": "code",
   "execution_count": 59,
   "metadata": {},
   "outputs": [
    {
     "name": "stdout",
     "output_type": "stream",
     "text": [
      "12\n",
      "12\n",
      "25\n",
      "10\n",
      "2\n",
      "짝수\n",
      "홀수\n",
      "[1, 2, 5, 9]\n"
     ]
    }
   ],
   "source": [
    "#람다함수\n",
    "multiply = lambda x, y: x * y\n",
    "\n",
    "print(multiply(3,4)) #출력: 12\n",
    "\n",
    "#일반함수\n",
    "def multiply(x,y):\n",
    "    return x* y\n",
    "\n",
    "print(multiply(3,4)) #출력 : 12\n",
    "\n",
    "#단순 계산 및 여러 매개변수 사용\n",
    "#단순계산\n",
    "square = lambda x: x ** 2\n",
    "print(square(5)) # 출력: 25\n",
    "\n",
    "#예시: 여러 매개변수 사용\n",
    "add = lambda a, b: a+b\n",
    "print(add(3,7)) # 출력: 10\n",
    "\n",
    "minus = lambda a, b: a-b\n",
    "print(minus(7,5)) # 출력: 2\n",
    "\n",
    "#조건문 사용 및 다른 함수 인자로 사용\n",
    "#예시: 조건문 사용\n",
    "check_even = lambda x: \"짝수\" if x % 2 == 0 else \"홀수\"\n",
    "print(check_even(4)) # 출력: 짝수 4\n",
    "\n",
    "check_odd = lambda x: \"홀수\" if x % 2 != 0 else \"짝수\"\n",
    "print(check_odd(7)) #출력: 홀수\n",
    "#예시: 다른 함수의 인자로 사용\n",
    "numbers = [5,2,9,1]\n",
    "sorted_numbers = sorted(numbers, key=lambda x: x)\n",
    "# sorted_numbers = sorted(numbers, key=lambda x: x, reverse=True)\n",
    "print(sorted_numbers) # 출력: [1,2,5,9]\n",
    "\n",
    "\n",
    "# cf. sorted 함수: 객체를 입력받아 정렬된 리스트를 반환하는 내장함수. 다른 메모리 사용\n",
    "# cf. sort 함수: 객체를 입력받아 정렬된 리스트를 반환하는 내장함수, 같은 메모리 사용\n",
    "    \n",
    "\n"
   ]
  },
  {
   "cell_type": "code",
   "execution_count": 69,
   "metadata": {},
   "outputs": [
    {
     "name": "stdout",
     "output_type": "stream",
     "text": [
      "<class 'int'>\n",
      "10\n",
      "3.1\n",
      "8\n"
     ]
    }
   ],
   "source": [
    "# 내장함수\n",
    "#파이썬에서 기본적으로 제공하는 함수로, 임포트하지 않고 바로 사용 가능\n",
    "# 코드를 간결하게 작성하고다양한 작업을 쉽게 처리할 수 있도록 설계됨\n",
    "\n",
    "#특징\n",
    "\"\"\"  \n",
    "* 즉시 사용 가능\n",
    "- 별도의 설치나 임포트가 필요하지 않음\n",
    "- 예: print(), len()등\n",
    "\n",
    "* 다양한 기능 지원: 데이터벼환, 수학 계산, 문자열 처리, 정렬, 입력/ 출력 등\n",
    "* 효율적이고 최적화된 동작:대부분의 내장함수는 파이썬 C API로 구현되어 빠르고 안정적인\n",
    "\n",
    "\"\"\"\n",
    "print(type(123))\n",
    "print(int(\"10\"))\n",
    "\n",
    "list_num = [1,2,3,4,5]\n",
    "len(list_num)\n",
    "\n",
    "number = 3.14159\n",
    "rounded_number = round(number, 1) \n",
    "print(rounded_number)\n",
    "\n",
    "#pow 함수: 밑수를 지수승으로 계산\n",
    "#2의 3승 계싼\n",
    "result = pow(2,3)\n",
    "print(result)\n",
    " "
   ]
  },
  {
   "cell_type": "code",
   "execution_count": 79,
   "metadata": {},
   "outputs": [
    {
     "name": "stdout",
     "output_type": "stream",
     "text": [
      "안녕하세요\n",
      "8\n",
      "안녕하세요, 홍길동님!\n",
      "안녕하세요, 준호님!\n",
      "24\n"
     ]
    }
   ],
   "source": [
    "def greet():\n",
    "    print(\"안녕하세요\")\n",
    "greet()\n",
    "\n",
    "def add(a,b):\n",
    "    return a+b\n",
    "result = add(3,5)\n",
    "print(result)\n",
    "\n",
    "def greet(name=\"홍길동님\"):\n",
    "    print(f\"안녕하세요, {name}!\")\n",
    "greet()\n",
    "greet(\"준호님\")\n",
    "\n",
    "def multiply(*args):\n",
    "    result = 1\n",
    "    for num in args:\n",
    "        result *= num\n",
    "    return result\n",
    "\n",
    "print(multiply(2,3,4))"
   ]
  },
  {
   "cell_type": "code",
   "execution_count": 91,
   "metadata": {},
   "outputs": [
    {
     "name": "stdout",
     "output_type": "stream",
     "text": [
      "black pink\n",
      "blackpink@gmail.com\n",
      "['blackpink', 'gmail.com']\n",
      "blackpink\n",
      "gmail.com\n"
     ]
    }
   ],
   "source": [
    "#내장함수\n",
    "#split함수\n",
    "full_name = 'black pink'\n",
    "print(full_name)\n",
    "\n",
    "full_name.split()\n",
    "\n",
    "full_name.split('k')\n",
    "\n",
    "full_name.split('pi')\n",
    "\n",
    "email = 'blackpink@gmail.com'\n",
    "print(email)\n",
    "\n",
    "z = email.split(\"@\")\n",
    "print(z)\n",
    "print(z[0])\n",
    "print(z[1])\n",
    "\n"
   ]
  },
  {
   "cell_type": "markdown",
   "metadata": {},
   "source": [
    "upper, lower, title 함수"
   ]
  },
  {
   "cell_type": "code",
   "execution_count": 96,
   "metadata": {},
   "outputs": [
    {
     "name": "stdout",
     "output_type": "stream",
     "text": [
      "BlackPink\n",
      "BLACKPINK\n",
      "blackpink\n",
      "Blackpink\n"
     ]
    }
   ],
   "source": [
    "first_name = \"Black\"\n",
    "last_name = \"Pink\"\n",
    "full_name = first_name + last_name\n",
    "print(full_name)\n",
    "\n",
    "print(full_name.upper())\n",
    "print(full_name.lower())\n",
    "print(full_name.title())"
   ]
  },
  {
   "cell_type": "markdown",
   "metadata": {},
   "source": [
    "기타"
   ]
  },
  {
   "cell_type": "code",
   "execution_count": 103,
   "metadata": {},
   "outputs": [
    {
     "name": "stdout",
     "output_type": "stream",
     "text": [
      "Hello\n",
      "Python\n",
      "탭을\t사용한 예시\n",
      "백슬래시는 \\ 이렇게 출력\n",
      "안녕하세오, Alice입니다, 저는 30살 입니다.\n",
      "3.14\n",
      "8\n"
     ]
    }
   ],
   "source": [
    "#줄 바꿈\n",
    "print(\"Hello\\nPython\")\n",
    "\n",
    "#탭 사용\n",
    "print(\"탭을\\t사용한 예시\")\n",
    "\n",
    "#백슬래시(\\) 출력\n",
    "print(\"백슬래시는 \\\\ 이렇게 출력\")\n",
    "\n",
    "#format 함수 : f-string과 유사\n",
    "name = \"Alice\"\n",
    "age = 30\n",
    "\n",
    "greeting = \"안녕하세오, {}입니다, 저는 {}살 입니다.\".format(name,age)\n",
    "print(greeting)\n",
    "\n",
    "#round 함수: 숫자 반올림\n",
    "#1 이면 소수점 첫째 자리에서 반올림\n",
    "#2면 둘째 자리에서 반올림\n",
    "number = 3.14159\n",
    "rounded_number = round(number,2)\n",
    "print(rounded_number)\n",
    "\n",
    "#pow 함수: 밑수를 지수승으로 계산\n",
    "#2의 3승 계산\n",
    "result = pow(2,3)\n",
    "print(result)\n",
    "\n",
    "#map 함수(1) : 데이터를 일정한 방식으로 모두 처리해주는 역할\n",
    "#리스트의 모든 요소를 두 배로 만들기"
   ]
  },
  {
   "cell_type": "code",
   "execution_count": 120,
   "metadata": {},
   "outputs": [
    {
     "name": "stdout",
     "output_type": "stream",
     "text": [
      "<class 'int'>\n",
      "10\n",
      "3.14\n",
      "False\n",
      "True\n",
      "123\n",
      "True\n",
      "3\n",
      "6\n",
      "5\n",
      "1\n",
      "[1, 2, 3]\n",
      "[3, 2, 1]\n"
     ]
    }
   ],
   "source": [
    "print(type(123))\n",
    "print(int(\"10\"))\n",
    "print(float(\"3.14\"))\n",
    "print(bool(0))\n",
    "print(bool(1))\n",
    "print(str(123))\n",
    "print(isinstance(123, int))\n",
    "\n",
    "print(len([1,2,3]))\n",
    "print(sum([1,2,3]))\n",
    "print(max([1,2,2,3,4,5]))\n",
    "print(min([1,2,3,4,5]))\n",
    "print(sorted([3,1,2,])) #오름차순\n",
    "print(list(reversed([1,2,3]))) #내림차순"
   ]
  },
  {
   "cell_type": "code",
   "execution_count": 128,
   "metadata": {},
   "outputs": [
    {
     "name": "stdout",
     "output_type": "stream",
     "text": [
      "5\n",
      "3.14\n",
      "8\n",
      "['1', '2', '3']\n"
     ]
    }
   ],
   "source": [
    "print(abs(-5))\n",
    "print(round(3.14159,2))\n",
    "print(pow(2,3))\n",
    "\n",
    "# map 객체를 리스트로 변환\n",
    "print(list(map(str, [1, 2, 3])))"
   ]
  },
  {
   "cell_type": "code",
   "execution_count": 136,
   "metadata": {},
   "outputs": [
    {
     "name": "stdout",
     "output_type": "stream",
     "text": [
      "['apple', 'banana', 'cherry', 'grape']\n",
      "['apple', 'banana', 'cherry', 'date']\n",
      "['banana', 'apple', 'cherry']\n"
     ]
    }
   ],
   "source": [
    "fruits = [\"apple\", \"banana\", \"cherry\"]\n",
    "fruits.append(\"grape\")\n",
    "print(fruits) #출력: ['apple', 'banana', 'cherry', 'grape']\n",
    "\n",
    "fruits = [\"apple\", \"banana\"]\n",
    "fruits.extend([\"cherry\", \"date\"])\n",
    "print(fruits)\n",
    "\n",
    "#지정한 위치에 요소를 삽입\n",
    "fruits = [\"apple\", \"cherry\"]\n",
    "fruits.insert(0,\"banana\")\n",
    "print(fruits)"
   ]
  },
  {
   "cell_type": "code",
   "execution_count": 145,
   "metadata": {},
   "outputs": [
    {
     "name": "stdout",
     "output_type": "stream",
     "text": [
      "['apple', 'cherry']\n",
      "cherry\n",
      "['apple', 'banana']\n",
      "[1, 1, 3, 4, 5]\n",
      "[5, 4, 3, 1, 1]\n"
     ]
    }
   ],
   "source": [
    "# 첫 번쨰로 나타나는 특정 요소를 삭제\n",
    "fruits = [\"apple\", \"banana\", \"cherry\"]\n",
    "fruits.remove(\"banana\")\n",
    "print(fruits) #출력 : [\"apple\", \"cherry\"]\n",
    "\n",
    "# 특정 인덱스의 요소를 삭제하고 반환, 인덱스를 생략하면 마지막 요소를 제거\n",
    "fruits = [\"apple\", \"banana\", \"cherry\"]\n",
    "last_item = fruits.pop()\n",
    "print(last_item) #출력: cherry\n",
    "print(fruits) #출력: ['apple', 'banana']\n",
    "\n",
    "#리스트를 오름차순으로 정렬(기본값). reverse=True를 설정하면 내림차순 정렬\n",
    "\n",
    "numbers = [ 3,1,4,1,5]\n",
    "numbers.sort()\n",
    "print(numbers)\n",
    "numbers.sort(reverse=True)\n",
    "print(numbers)\n",
    "\n"
   ]
  },
  {
   "cell_type": "code",
   "execution_count": 155,
   "metadata": {},
   "outputs": [
    {
     "name": "stdout",
     "output_type": "stream",
     "text": [
      "[5, 4, 1, 3]\n",
      "2\n",
      "1\n"
     ]
    }
   ],
   "source": [
    "numbers = [3,1,4,5]\n",
    "numbers.reverse()\n",
    "print(numbers) #출력: [5,4,1,3]\n",
    "\n",
    "#리스트에서 특정 요소의 개수를 반환\n",
    "numbers = [3,1,4,5,1]\n",
    "print(numbers.count(1)) # 출력: 2\n",
    "\n",
    "#특정 요소의 인덱스를 반환\n",
    "fruits = [\"apple\", \"banana\", \"cherry\"]\n",
    "print(fruits.index(\"banana\"))#출력: 1"
   ]
  },
  {
   "cell_type": "code",
   "execution_count": 159,
   "metadata": {},
   "outputs": [
    {
     "name": "stdout",
     "output_type": "stream",
     "text": [
      "hello world\n",
      "HELLO WORLD\n",
      "Hello World\n"
     ]
    }
   ],
   "source": [
    "text = \"hello world\"\n",
    "#문자열을 소문자로 반환\n",
    "print(text.lower())\n",
    "#문자열을 대문자로 반환\n",
    "print(text.upper())\n",
    "#양쪽 끝의 공백 또는 특정문자 제거\n",
    "text = \"  Hello World  \"\n",
    "print(text.strip()) # 출력: Hello World\n"
   ]
  },
  {
   "cell_type": "code",
   "execution_count": 163,
   "metadata": {},
   "outputs": [
    {
     "name": "stdout",
     "output_type": "stream",
     "text": [
      "bonono\n",
      "['apple', 'banana', 'cherry']\n",
      "apple.banana.cherry\n"
     ]
    }
   ],
   "source": [
    "text = \"banana\"\n",
    "print(text.replace(\"a\",\"o\")) #출력: bonono\n",
    "\n",
    "#문자열을 구분자를 기준으로 분리하여 리스트로 반환\n",
    "text = \"apple,banana,cherry\"\n",
    "print(text.split(\",\")) #출력: ['apple', 'banana', 'cherry']\n",
    "\n",
    "#리스트나 튜플의 요소를 문자열로 결합\n",
    "fruits = [\"apple\", \"banana\", \"cherry\"]\n",
    "print('.'.join(fruits)) #출력: apple.banana.cherry"
   ]
  },
  {
   "cell_type": "code",
   "execution_count": 168,
   "metadata": {},
   "outputs": [
    {
     "name": "stdout",
     "output_type": "stream",
     "text": [
      "6\n",
      "True\n",
      "True\n",
      "True\n",
      "Hello world\n"
     ]
    }
   ],
   "source": [
    "#부분 만자열의 첫 번째 위치를 반환\n",
    "text = \"hello world\"\n",
    "print(text.find(\"world\")) #출력: 6\n",
    "\n",
    "#문자열이 특정 접두사/접미사로 시작하거나 끝나는지 확인\n",
    "text = \"hello world\"\n",
    "print(text.startswith(\"hello\")) #출력: true\n",
    "print(text.endswith(\"world\")) #출력: true\n",
    "\n",
    "#문자열이 숫자로만 구성되어 있는 지 확인\n",
    "text = \"12345\"\n",
    "print(text.isnumeric()) #true\n",
    "\n",
    "#첫 번째 문자를 대문자로, 나머지는 소문자로 변환\n",
    "text = \"hello world\"\n",
    "print(text.capitalize())"
   ]
  }
 ],
 "metadata": {
  "kernelspec": {
   "display_name": ".venv",
   "language": "python",
   "name": "python3"
  },
  "language_info": {
   "codemirror_mode": {
    "name": "ipython",
    "version": 3
   },
   "file_extension": ".py",
   "mimetype": "text/x-python",
   "name": "python",
   "nbconvert_exporter": "python",
   "pygments_lexer": "ipython3",
   "version": "3.12.8"
  }
 },
 "nbformat": 4,
 "nbformat_minor": 2
}
