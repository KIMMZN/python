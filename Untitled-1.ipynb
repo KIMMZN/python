{
 "cells": [
  {
   "cell_type": "code",
   "execution_count": null,
   "metadata": {},
   "outputs": [],
   "source": [
    "def calculate_grade():\n",
    "    score = int(input(\"점수를 입력하세요 (0-100): \"))\n",
    "\n",
    "    if score < 0 or score > 100:\n",
    "        print(\"잘못된 점수입니다.\")\n",
    "    elif score >= 90:\n",
    "        print(\"A 학점\")\n",
    "    elif score >= 80:\n",
    "        print(\"B 학점\")\n",
    "    elif score >= 70:\n",
    "        print(\"C 학점\")\n",
    "    elif score >= 60:\n",
    "        print(\"D 학점\")\n",
    "    else:\n",
    "        print(\"F 학점\")\n",
    "\n",
    "calculate_grade()"
   ]
  }
 ],
 "metadata": {
  "kernelspec": {
   "display_name": ".venv",
   "language": "python",
   "name": "python3"
  },
  "language_info": {
   "name": "python",
   "version": "3.12.8"
  }
 },
 "nbformat": 4,
 "nbformat_minor": 2
}
