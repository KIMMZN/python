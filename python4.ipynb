{
 "cells": [
  {
   "cell_type": "code",
   "execution_count": 2,
   "metadata": {},
   "outputs": [
    {
     "name": "stdout",
     "output_type": "stream",
     "text": [
      "멍멍이가 짖습니다!\n"
     ]
    }
   ],
   "source": [
    "#클래스 예시\n",
    "#간단한 클래스 예제\n",
    "class Dog:\n",
    "    #초기화 메서드(생성자)\n",
    "    def __init__(self, name):\n",
    "        self.name = name # 인스턴스 변수\n",
    "        \n",
    "    def bark(self):\n",
    "        print(f\"{self.name}가 짖습니다!\")\n",
    "\n",
    "# 객체 생성\n",
    "my_dog = Dog(\"멍멍이\")\n",
    "my_dog.bark() # 출력: 멍멍이가 짖습니다!"
   ]
  },
  {
   "cell_type": "code",
   "execution_count": 30,
   "metadata": {},
   "outputs": [
    {
     "name": "stdout",
     "output_type": "stream",
     "text": [
      "나비\n",
      "나비가 야옹하고 웁니다.\n",
      "미야\n",
      "미야가 야옹하고 웁니다.\n",
      "강아지\n",
      "강아지가 '멍뭉'하고 웁니다.\n"
     ]
    }
   ],
   "source": [
    "#클래스 예제(상속)\n",
    "class Animal:\n",
    "    def __init__(self, name):\n",
    "        self.name = name\n",
    "    \n",
    "    def speak(self):\n",
    "        pass\n",
    "\n",
    "class Cat(Animal): # animal 클래스 상속\n",
    "    def speak(self):\n",
    "        return f\"{self.name}가 야옹하고 웁니다.\"\n",
    "\n",
    "class Dog(Animal): # Animal 클래스 상속\n",
    "    def speak(self):\n",
    "        return f\"{self.name}가 '멍뭉'하고 웁니다.\"\n",
    "\n",
    "# 객체 생성 및 사용\n",
    "cat1 = Cat(\"나비\") #Cat 클래스의 인스턴스(객체) 생성\n",
    "print(cat1.name) # 출력: 나비\n",
    "print(cat1.speak()) #출력: 나비가 야옹하고 웁니다.\n",
    "\n",
    "cat2 = Cat(\"미야\") # 다른 인스턴스 생성\n",
    "print(cat2.name) # 출력: 미야\n",
    "print(cat2.speak()) #출력: 미야가 야옹하고 웁니다.\n",
    "\n",
    "dog1 = Dog(\"강아지\") # 인스턴스 생성\n",
    "print(dog1.name)    #출력: 강아지\n",
    "print(dog1.speak()) #출력: 강아지가 '멍뭉'하고 웁니다.\n",
    "\n"
   ]
  },
  {
   "cell_type": "code",
   "execution_count": 31,
   "metadata": {},
   "outputs": [
    {
     "name": "stdout",
     "output_type": "stream",
     "text": [
      "1000\n"
     ]
    }
   ],
   "source": [
    "#클래스 예제(캡슐화)\n",
    "\n",
    "class BankAccount:\n",
    "    def __init__(self):\n",
    "        self.__balance = 0 # 비공개 변수(__), 변수 이름 앞에 두개의 밑줄 __을 붙여 비공개 속성으로 만듬.\n",
    "                           # 이로인해 외부 코드에서 직접 접근이 불가능함         \n",
    "    \n",
    "    def deposit(self, amount):\n",
    "        if amount > 0:\n",
    "            self.__balance += amount\n",
    "    \n",
    "    def get_balance(self):\n",
    "        return self.__balance\n",
    "\n",
    "#실행 예제\n",
    "account = BankAccount()\n",
    "account.deposit(1000)\n",
    "print(account.get_balance()) #출력: 1000\n",
    "#print(account._balance) #오류발생 : 직접 접근 불가"
   ]
  },
  {
   "cell_type": "code",
   "execution_count": 15,
   "metadata": {},
   "outputs": [
    {
     "name": "stdout",
     "output_type": "stream",
     "text": [
      "파이썬 고등학교\n",
      "파이썬 고등학교\n",
      "파이썬 고등학교\n",
      "2\n"
     ]
    }
   ],
   "source": [
    "# 클래스 변수와 인스턴스 변수 예제\n",
    "class Student:\n",
    "    school_Name = \"파이썬 고등학교\"  # 클래스 변수\n",
    "    Student_count = 0\n",
    "\n",
    "    def __init__(self, name):\n",
    "        self.name = name  # 인스턴스 변수\n",
    "        Student.Student_count += 1\n",
    "\n",
    "\n",
    "# 실행 예제\n",
    "student1 = Student(\"김철수\")\n",
    "student2 = Student(\"이영희\")\n",
    "\n",
    "print(Student.school_Name)  # 출력: 파이썬 고등학교\n",
    "print(student1.school_Name)  # 출력: 파이썬 고등학교\n",
    "print(student2.school_Name)  # 출력: 파이썬 고등학교\n",
    "print(Student.Student_count)  # 출력: 2"
   ]
  },
  {
   "cell_type": "code",
   "execution_count": 18,
   "metadata": {},
   "outputs": [
    {
     "name": "stdout",
     "output_type": "stream",
     "text": [
      "계산기를 초기화합니다.\n",
      "덧셈 결과: 30\n",
      "곱셈결과: 200\n"
     ]
    }
   ],
   "source": [
    "#클래스 예시(계산기)\n",
    "class Calculator:\n",
    "    #초기화 메서드: 아무 상태 없이 계산만 수행\n",
    "    def __init__(self):\n",
    "        print(\"계산기를 초기화합니다.\")\n",
    "\n",
    "    #두 숫자를 더하는 메서드\n",
    "    def add(self, a,b):\n",
    "        return a+b\n",
    "    \n",
    "    # 두 숫자를 곱하는 메서드\n",
    "    def multiply(self,a,b):\n",
    "        return a *b\n",
    "\n",
    "#객체 생성 및 메서드 호출\n",
    "calc = Calculator() #출력: 계산기를 초기화 합니다\n",
    "print(\"덧셈 결과:\", calc.add(10,20)) # 결과 : 30\n",
    "print(\"곱셈결과:\", calc.multiply(10,20)) # 곱셈결과: 200"
   ]
  },
  {
   "cell_type": "code",
   "execution_count": 23,
   "metadata": {},
   "outputs": [
    {
     "name": "stdout",
     "output_type": "stream",
     "text": [
      "이름:홍길동, 나이: 16\n",
      "이름:김철수, 나이: 18\n"
     ]
    }
   ],
   "source": [
    "#클래스 예시 (학생정보 관리)\n",
    "\n",
    "#학생정보 관리 클래스 예제\n",
    "\n",
    "class Student:\n",
    "    #생성자: 학생 이름과 나이를 초기화\n",
    "    def __init__(self,name,age):\n",
    "        self.name = name\n",
    "        self.age = age\n",
    "    \n",
    "    #학생 정보 출력 메서드\n",
    "    def display_info(self):\n",
    "        print(f\"이름:{self.name}, 나이: {self.age}\")\n",
    "\n",
    "#객체 생성 및 메서드 호출\n",
    "student1 = Student(\"홍길동\", 16)\n",
    "student2 = Student(\"김철수\", 18)\n",
    "\n",
    "student1.display_info()\n",
    "student2.display_info()"
   ]
  },
  {
   "cell_type": "code",
   "execution_count": 26,
   "metadata": {},
   "outputs": [
    {
     "name": "stdout",
     "output_type": "stream",
     "text": [
      "어벤져스 영화의 할인된 가격: 10000원\n"
     ]
    }
   ],
   "source": [
    "#클래스 예시 (영화티켓할인)\n",
    "#영화 티켓 할인 관리 클래스 예제\n",
    "class MovieTicket:\n",
    "    # 생성자: 영화 제목과 기본 티켓 가격 초기화\n",
    "    def __init__(self, title, price):\n",
    "        self.title = title\n",
    "        self.price = price\n",
    "    \n",
    "    # 할인 적용 메서드\n",
    "    def apply_discount(self, discount):\n",
    "        self.price -= discount\n",
    "        print(f\"{self.title} 영화의 할인된 가격: {self.price}원\")  # f-string 사용법 수정\n",
    "\n",
    "#객체 생성 및 메서드 호출\n",
    "ticket = MovieTicket(\"어벤져스\", 12000)\n",
    "ticket.apply_discount(2000)\n",
    "\n"
   ]
  },
  {
   "cell_type": "code",
   "execution_count": 32,
   "metadata": {},
   "outputs": [
    {
     "name": "stdout",
     "output_type": "stream",
     "text": [
      "5000원이 입금되었습니다. 현재 잔액: 15000원\n",
      "2000원이 출금 되었습니다. 현재 잔액: 13000원\n",
      "잔액이 부족합니다.\n"
     ]
    }
   ],
   "source": [
    "#클래스 예시(은행계좌)\n",
    "#간단한 은행 계좌 클래스\n",
    "class BankAccount:\n",
    "    def __init__(self,owner,balance=0):\n",
    "        self.owner = owner\n",
    "        self.balance = balance\n",
    "    #입금\n",
    "    def deposit(self, amount):\n",
    "        self.balance += amount\n",
    "        print(f\"{amount}원이 입금되었습니다. 현재 잔액: {self.balance}원\")\n",
    "    #출금\n",
    "    def withdraw(self, amount):\n",
    "        if amount > self.balance:\n",
    "            print(\"잔액이 부족합니다.\")\n",
    "        else:\n",
    "            self.balance -= amount\n",
    "            print(f\"{amount}원이 출금 되었습니다. 현재 잔액: {self.balance}원\")\n",
    "\n",
    "#사용 예시\n",
    "account = BankAccount(\"홍길동\", 10000)\n",
    "account.deposit(5000) # 출력: 5000원이 입금되었습니다. 현재 잔액: 15000원\n",
    "account.withdraw(2000) #출력: 2000원이 출금 되었습니다. 현재 잔액: 13000원\n",
    "account.withdraw(14000) "
   ]
  },
  {
   "cell_type": "markdown",
   "metadata": {},
   "source": [
    "### 복습용 문제들"
   ]
  },
  {
   "cell_type": "code",
   "execution_count": 39,
   "metadata": {},
   "outputs": [
    {
     "name": "stdout",
     "output_type": "stream",
     "text": [
      "안녕하세요, 제 이름은 홍길동이고, 나이는 25입니다\n"
     ]
    }
   ],
   "source": [
    "#1\n",
    "\n",
    "class Person:\n",
    "    def __init__(self, name, age):\n",
    "        self.name = name\n",
    "        self.age = age\n",
    "    \n",
    "    def introduce(self):\n",
    "        return f\"안녕하세요, 제 이름은 {self.name}이고, 나이는 {self.age}입니다\"\n",
    "\n",
    "# print(Person(\"홍길동\", \"25\").introduce())\n",
    "\n",
    "person1 = Person(\"홍길동\", 25)\n",
    "print(person1.introduce())"
   ]
  },
  {
   "cell_type": "code",
   "execution_count": 49,
   "metadata": {},
   "outputs": [
    {
     "name": "stdout",
     "output_type": "stream",
     "text": [
      "127\n",
      "32\n",
      "4785\n",
      "0으로 나눌 수 없습니다\n"
     ]
    }
   ],
   "source": [
    "#2 계산기 클래스를 생성하시오.\n",
    "\n",
    "class Calculator:\n",
    "    def __init__(self, a, b):\n",
    "        self.a = a\n",
    "        self.b = b\n",
    "    \n",
    "    def add(self):\n",
    "        return self.a + self.b\n",
    "    \n",
    "    def subtract(self):\n",
    "        return self.a - self.b\n",
    "    \n",
    "    def multiply(self):\n",
    "        return self.a * self.b\n",
    "    \n",
    "    \n",
    "    def divide(self):\n",
    "        if(self.b == 0):\n",
    "            return \"0으로 나눌 수 없습니다\"\n",
    "        else:\n",
    "            return self.a / self.b\n",
    "    \n",
    "calculator1 = Calculator(55,72)\n",
    "print(calculator1.add())\n",
    "calculator2 = Calculator(87,55)\n",
    "print(calculator2.subtract())\n",
    "calculator3 = Calculator(87,55)\n",
    "print(calculator3.multiply())\n",
    "calculator4 = Calculator(5,0)\n",
    "print(calculator4.divide())"
   ]
  },
  {
   "cell_type": "code",
   "execution_count": 57,
   "metadata": {},
   "outputs": [
    {
     "name": "stdout",
     "output_type": "stream",
     "text": [
      "호랑이님, 65점으로 합격 입니다\n",
      "토끼님, 58점으로 불합격 입니다\n"
     ]
    }
   ],
   "source": [
    "#3 학생 성적 클래스\n",
    "\n",
    "class Student:\n",
    "    def __init__(self,name,score):\n",
    "        self.name = name\n",
    "        self.score = score\n",
    "    \n",
    "    def check_pass(self):\n",
    "        if(self.score >= 60):\n",
    "            return f\"{self.name}님, {self.score}점으로 합격 입니다\"\n",
    "        else:\n",
    "            return f\"{self.name}님, {self.score}점으로 불합격 입니다\"\n",
    "\n",
    "student10 = Student(\"호랑이\", 65)\n",
    "student11 = Student(\"토끼\", 58)\n",
    "print(student10.check_pass())\n",
    "print(student11.check_pass())"
   ]
  },
  {
   "cell_type": "code",
   "execution_count": null,
   "metadata": {},
   "outputs": [],
   "source": [
    "#4 은행 계좌 클래스\n",
    "\n",
    "class BankAccount:\n",
    "    def __init__(self, balance):\n",
    "        self.balance = 0\n",
    "    \n",
    "    def deposit(self, amount):\n",
    "        self.balance += amount\n",
    "    \n",
    "    def withdraw(self, amount):\n",
    "        if(self.balance < amount):\n",
    "            return \"잔액 부족\"\n",
    "        else:\n",
    "            balacne -= amount\n",
    "    \n",
    "    def get_balance(self):\n",
    "        return f\"현재 잔액: {self.balance}\""
   ]
  }
 ],
 "metadata": {
  "kernelspec": {
   "display_name": ".venv",
   "language": "python",
   "name": "python3"
  },
  "language_info": {
   "codemirror_mode": {
    "name": "ipython",
    "version": 3
   },
   "file_extension": ".py",
   "mimetype": "text/x-python",
   "name": "python",
   "nbconvert_exporter": "python",
   "pygments_lexer": "ipython3",
   "version": "3.12.8"
  }
 },
 "nbformat": 4,
 "nbformat_minor": 2
}
