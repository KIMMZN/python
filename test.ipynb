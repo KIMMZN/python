{
 "cells": [
  {
   "cell_type": "code",
   "execution_count": 1,
   "metadata": {},
   "outputs": [
    {
     "name": "stdout",
     "output_type": "stream",
     "text": [
      "F 학점\n"
     ]
    }
   ],
   "source": [
    "def calculate_grade():\n",
    "    score = int(input(\"점수를 입력하세요 (0-100): \"))\n",
    "\n",
    "    if score < 0 or score > 100:\n",
    "        print(\"잘못된 점수입니다.\")\n",
    "    elif score >= 90:\n",
    "        print(\"A 학점\")\n",
    "    elif score >= 80:\n",
    "        print(\"B 학점\")\n",
    "    elif score >= 70:\n",
    "        print(\"C 학점\")\n",
    "    elif score >= 60:\n",
    "        print(\"D 학점\")\n",
    "    else:\n",
    "        print(\"F 학점\")\n",
    "\n",
    "calculate_grade()"
   ]
  },
  {
   "cell_type": "code",
   "execution_count": null,
   "metadata": {},
   "outputs": [],
   "source": [
    "def calculate_grade():\n",
    "    score = int(input(\"점수를 입력하세요(0-100)\"))\n",
    "    \n",
    "    if score<0 or score > 100:\n",
    "        print(\"잘못된 점수임\")"
   ]
  },
  {
   "cell_type": "code",
   "execution_count": 2,
   "metadata": {},
   "outputs": [
    {
     "name": "stdout",
     "output_type": "stream",
     "text": [
      "10 -20\n"
     ]
    }
   ],
   "source": [
    "num1 = 10\n",
    "num2= -20\n",
    "print(num1, num2)"
   ]
  },
  {
   "cell_type": "code",
   "execution_count": 8,
   "metadata": {},
   "outputs": [
    {
     "name": "stdout",
     "output_type": "stream",
     "text": [
      "0.42799999999999994\n"
     ]
    }
   ],
   "source": [
    "num1 = 3.14\n",
    "num2 = -2.712\n",
    "num3 = num1 + num2\n",
    "print(num3)"
   ]
  },
  {
   "cell_type": "code",
   "execution_count": 10,
   "metadata": {},
   "outputs": [
    {
     "name": "stdout",
     "output_type": "stream",
     "text": [
      "hello python\n"
     ]
    }
   ],
   "source": [
    "str1 = 'hello'\n",
    "str2 = \"python\"\n",
    "print(str1, str2)"
   ]
  },
  {
   "cell_type": "code",
   "execution_count": 12,
   "metadata": {},
   "outputs": [
    {
     "name": "stdout",
     "output_type": "stream",
     "text": [
      "this is a multi-line string.\n"
     ]
    }
   ],
   "source": [
    "str3 = \"\"\"this is a multi-line string.\"\"\"\n",
    "print(str3)"
   ]
  },
  {
   "cell_type": "code",
   "execution_count": 18,
   "metadata": {},
   "outputs": [
    {
     "name": "stdout",
     "output_type": "stream",
     "text": [
      "p\n",
      "o\n"
     ]
    }
   ],
   "source": [
    "# 문자열의 각 문자는 0부터 시작하는 인덱슬르 통해 접근 가능\n",
    "text = \"python\"\n",
    "print(text[0]) #출력: p\n",
    "print(text[-2]) #출력: o (뒤에서 첫 번째 문자)"
   ]
  },
  {
   "cell_type": "code",
   "execution_count": 38,
   "metadata": {},
   "outputs": [
    {
     "name": "stdout",
     "output_type": "stream",
     "text": [
      "pyt\n",
      "pto el\n",
      "yhnhlo\n",
      "yhnh\n",
      "python hello\n",
      "olhnhy\n"
     ]
    }
   ],
   "source": [
    "# [start:end:step] 형식을 사용해 문자열의 일부를 추출할 수 있음\n",
    "# 주의사항\n",
    "# start와 end는 선택 사항: 생략하면 기본값으로 시작점은 0, 끝점은 문자열 끝으로 설정됨\n",
    "# step의 기본값은 1: 생략하면 모든 문자를 그대로 가져옴\n",
    "# end는 포함되지 않음: end 인덱스 바로 전까지 선택함\n",
    "# step이 음수일 경우: 문자열이 거꾸로 처리됨\n",
    "\n",
    "text = \"python hello\"\n",
    "print(text[0:3]) # 출력: pyt\n",
    "print(text[::2]) # 출력: pto el (2칸씩 건너뜀) (0,2,4,6,8,10) (0출력, 시작index에서 step 건너뛰고 출력 순)\n",
    "print(text[1::2]) # 출력: yhnhlo (시작을 index 1에서, end값 기본값, step 2칸씩)\n",
    "print(text[1:8:2]) # 출력: yhnh\n",
    "print(text[::1]) # 출력: python hello\n",
    "print(text[::-2]) # 출력: olhnhy (step이 -일 경우 문자열이 거꾸로 처리됨)"
   ]
  },
  {
   "cell_type": "code",
   "execution_count": 41,
   "metadata": {},
   "outputs": [
    {
     "name": "stdout",
     "output_type": "stream",
     "text": [
      "PYTHON\n",
      "python\n"
     ]
    }
   ],
   "source": [
    "text = \"python\"\n",
    "print(text.upper()) #출력: PYTHON\n",
    "print(text.lower()) #출력: python"
   ]
  },
  {
   "cell_type": "code",
   "execution_count": 46,
   "metadata": {},
   "outputs": [
    {
     "name": "stdout",
     "output_type": "stream",
     "text": [
      "1\n",
      "3\n"
     ]
    }
   ],
   "source": [
    "text = \"banana\"\n",
    "print(text.find('a')) # 출력: 1 (첫 번째 'a'의 위치)\n",
    "print(text.count('a')) # 출력: 3 (a 문자 count)"
   ]
  },
  {
   "cell_type": "code",
   "execution_count": 51,
   "metadata": {},
   "outputs": [
    {
     "name": "stdout",
     "output_type": "stream",
     "text": [
      "Hello World\n",
      "Hello World \n",
      " Hello World \n"
     ]
    }
   ],
   "source": [
    "# strip(): 문자열 양쪽 끝 공백 제거\n",
    "# lstrip(), rstrip(): 왼쪽 또는 오른쪽 공백만 제거\n",
    "\n",
    "text = \" Hello World \"\n",
    "print(text.strip()) #출력: \"hello world\"\n",
    "print(text.lstrip()) #출력: \"hello world\" 왼쪽만 공백 제거\n",
    "print(text)"
   ]
  },
  {
   "cell_type": "code",
   "execution_count": 57,
   "metadata": {},
   "outputs": [
    {
     "name": "stdout",
     "output_type": "stream",
     "text": [
      "['python', 'is', 'fun']\n",
      "pythonisfun\n"
     ]
    }
   ],
   "source": [
    "# split(): 특정 구분자로 문자열을 나누어 리스트로 반환\n",
    "# join(): 리스트의 문자열을 특정 구분자로 연결하여 하나의 문자열로 반환\n",
    "text = \"python is fun\"\n",
    "words = text.split() #공백 기준으로 분할\n",
    "print(words) #출력: ['python', 'is', 'fun']\n",
    "joined_text = ''.join(words)\n",
    "print(joined_text) # 출력: \"python is fun\""
   ]
  },
  {
   "cell_type": "code",
   "execution_count": 60,
   "metadata": {},
   "outputs": [
    {
     "name": "stdout",
     "output_type": "stream",
     "text": [
      "my name is Alice and i am 30 years old\n"
     ]
    }
   ],
   "source": [
    "# 파이썬은 문자열 내에 다양한 방법으로 변수를 삽입할 수 있음\n",
    "# f-stirngs: 파이썬 3.6부터 도입된 간결한 문자열 포매팅 방식, 문자열 앞에 f를 붙여 사용함\n",
    "# 중괄호 {} 안에 변수나 표현식을 직접 넣어 문자열에 포함시킬 수 있음\n",
    "name=\"Alice\"\n",
    "age=30\n",
    "print(f\"my name is {name} and i am {age} years old\") # 결과:my name is Alice and i am 30 years old\n"
   ]
  },
  {
   "cell_type": "code",
   "execution_count": 63,
   "metadata": {},
   "outputs": [
    {
     "name": "stdout",
     "output_type": "stream",
     "text": [
      "Hello\n",
      "python\n",
      "Hello\tWorld\n",
      "Path: C:\\Users\\Name\n",
      "It's a book\n",
      "She said, \"Hello!\"\n"
     ]
    }
   ],
   "source": [
    "print(\"Hello\\npython\")  # 줄바꿈\n",
    "print(\"Hello\\tWorld\")  # 탭\n",
    "print(\"Path: C:\\\\Users\\\\Name\")  # 백슬래시 포함\n",
    "print('It\\'s a book')  # 작은따옴표\n",
    "print(\"She said, \\\"Hello!\\\"\")  # 큰따옴표"
   ]
  },
  {
   "cell_type": "code",
   "execution_count": 67,
   "metadata": {},
   "outputs": [
    {
     "name": "stdout",
     "output_type": "stream",
     "text": [
      "False\n",
      "True\n",
      "False\n"
     ]
    }
   ],
   "source": [
    "# and: 두 조건이 모두 참일때 참, or : 둘 중 하나라도 참이면 참\n",
    "# not: 조건의 값을 반전시킴\n",
    "a = True\n",
    "b = False\n",
    "print(a and b) # false\n",
    "print(a or b) # true\n",
    "print(not a) # false"
   ]
  },
  {
   "cell_type": "code",
   "execution_count": 72,
   "metadata": {},
   "outputs": [
    {
     "name": "stdout",
     "output_type": "stream",
     "text": [
      "접근거부\n"
     ]
    }
   ],
   "source": [
    "is_authenticated = True\n",
    "has_permission = False\n",
    "if is_authenticated and has_permission:\n",
    "    print(\"접근허용\")\n",
    "else:\n",
    "    print(\"접근거부\")\n",
    "    #결과 : 접근거부"
   ]
  },
  {
   "cell_type": "code",
   "execution_count": 74,
   "metadata": {},
   "outputs": [],
   "source": [
    "#List\n",
    "# 여러 개의 값을 하나의 변수에 담을 수 있는 순서가 있는 데이터 자료형으로 대괄호[] 안에 콤마(,)로 구분하여 정의\n",
    "# 수정 가능하고 중복이 허용되며 다양한 데이터 유형을 한 리스트에 담을 수 있음\n",
    "\n",
    "#빈리스트 생성\n",
    "empty_list = []\n",
    "#초기값 설정\n",
    "numbers = [1,2,3,4,5]\n",
    "fruits = [\"apple\", \"banana\", \"cherry\"]\n"
   ]
  },
  {
   "cell_type": "code",
   "execution_count": 79,
   "metadata": {},
   "outputs": [
    {
     "name": "stdout",
     "output_type": "stream",
     "text": [
      "apple\n",
      "['apple', 'banana']\n"
     ]
    }
   ],
   "source": [
    "#인덱스 접근 및 슬라이싱\n",
    "fruits = [\"apple\", \"banana\", \"cherry\"]\n",
    "print(fruits[0]) # apple\n",
    "\n",
    "#슬라이싱\n",
    "fruits = [\"apple\", \"banana\", \"cherry\"]\n",
    "print(fruits[0:2]) #['apple', 'banana']"
   ]
  },
  {
   "cell_type": "code",
   "execution_count": 106,
   "metadata": {},
   "outputs": [
    {
     "name": "stdout",
     "output_type": "stream",
     "text": [
      "[3, 1, 4, 1, 5, 9]\n",
      "[1, 1, 3, 4, 5, 9]\n",
      "[1, 3, 4, 5, 9]\n",
      "[1, 3, 5, 9]\n",
      "4\n",
      "[9, 5, 3, 1]\n"
     ]
    }
   ],
   "source": [
    "#list 활용 예제\n",
    "\n",
    "#요소 추가 (append)\n",
    "numbers = [3,1,4,1,5]\n",
    "numbers.append(9)\n",
    "#print(numbers)\n",
    "print(numbers)\n",
    "#요소 정렬 (sort)(오름차순)\n",
    "numbers.sort()\n",
    "print(numbers) # [ 1,1,3,4,5,9]\n",
    "#요소 제거 (remove)\n",
    "numbers.remove(1) # 첫번째로 발견되는 1을 제거\n",
    "print(numbers) # [1,3,4,5,9]\n",
    "#특정 위치의 요소 추출 및 삭제(pop)\n",
    "removed_item = numbers.pop(2) #인덱스 2의 요소를 추출하고 삭제, 요소 반환\n",
    "print(numbers) # [1,3,5,9]\n",
    "print(removed_item) # 4\n",
    "#리스트 뒤집기 (reverse)\n",
    "numbers.reverse()\n",
    "print(numbers) # [9,5,3,1]"
   ]
  },
  {
   "cell_type": "code",
   "execution_count": 117,
   "metadata": {},
   "outputs": [
    {
     "name": "stdout",
     "output_type": "stream",
     "text": [
      "1\n",
      "[9, 5, 4, 3]\n",
      "[9, 5, 4, 3, 6, 7, 8]\n",
      "[9, 5, 4, 3, 6, 7, 8, 10, 11, 12]\n"
     ]
    }
   ],
   "source": [
    "#리스트 요소 개수 세기(count)\n",
    "numbers = [9,5,4,3]\n",
    "count = numbers.count(5)\n",
    "print(count) # 1\n",
    "\n",
    "#리스트 복사(copy)\n",
    "new_numbers = numbers.copy()\n",
    "print(new_numbers) # [9,5,4,3]\n",
    "\n",
    "#리스트 확장(extended)\n",
    "numbers.extend([6,7,8])\n",
    "print(numbers) # [9,5,4,3,6,7,8]\n",
    "\n",
    "#리스트 합치기 (concatenate)\n",
    "anothoer_list = [10,11,12]\n",
    "combined_list = numbers + anothoer_list\n",
    "print(combined_list) # [9,5,4,3,6,7,8,10,11,12]"
   ]
  },
  {
   "cell_type": "code",
   "execution_count": 121,
   "metadata": {},
   "outputs": [
    {
     "name": "stdout",
     "output_type": "stream",
     "text": [
      "('red', 'green', 'blue')\n",
      "('red', 'green')\n"
     ]
    }
   ],
   "source": [
    "#튜플\n",
    "#여러 개의 값을 하나의 변수에 담을 수 있는 순거가 있는 데이터 자료형\n",
    "#리스트와는 달리 수정할 수 없고 중복은 허용되며, 튜플은 소괄호()안에 값을 콤마(.)로 구분하여 정의함\n",
    "\n",
    "# 빈튜플 생성\n",
    "empty_tuple = ()\n",
    "\n",
    "#한개의 요소를 가진 튜플: 단일 요소일 때는 콤마가 필요\n",
    "single_element = (5,)\n",
    "\n",
    "#인덱스로 접근\n",
    "colors = (\"red\", \"green\", \"blue\")\n",
    "print(colors) # ('red', 'green', 'blue')\n",
    "\n",
    "#슬라이싱\n",
    "colors = (\"red\", \"green\", \"blue\")\n",
    "print(colors[0:2]) # ('red', 'green')"
   ]
  },
  {
   "cell_type": "code",
   "execution_count": 126,
   "metadata": {},
   "outputs": [
    {
     "name": "stdout",
     "output_type": "stream",
     "text": [
      "2\n",
      "2\n",
      "x 좌표: 3\n",
      "y 좌표: 4\n"
     ]
    }
   ],
   "source": [
    "numbers = (1,2,3,2,4)\n",
    "print(numbers.count(2)) #2\n",
    "\n",
    "#특정 값의 인덱스 찾기 (index)\n",
    "print(numbers.index(3)) #2 (3의 인덱스)\n",
    "\n",
    "point = (3,4)\n",
    "print(\"x 좌표:\", point[0]) # 3\n",
    "print(\"y 좌표:\", point[1]) # 4\n"
   ]
  },
  {
   "cell_type": "code",
   "execution_count": 136,
   "metadata": {},
   "outputs": [
    {
     "name": "stdout",
     "output_type": "stream",
     "text": [
      "bob\n",
      "New York\n",
      "15\n",
      "Charile\n",
      "dict_keys(['name', 'age'])\n",
      "dict_values(['Charile', 22])\n",
      "dict_items([('name', 'Charile'), ('age', 22)])\n"
     ]
    }
   ],
   "source": [
    "#딕셔너리(dict)\n",
    "# key - value 값으로 쌍으로 데이터를 저장하는 매핑 타입의 자료형\n",
    "# 요소추가, 수정, 삭제가 가능하며, 표기는 중괄호{}안에 key:value 형태로 값을 저장함\n",
    "\n",
    "#빈딕셔너리 생성\n",
    "empy_tuple = {}\n",
    "\n",
    "#초기값 설정\n",
    "person = {\"name\": \"bob\", \"age\":30, \"city\": \"New York\"}\n",
    "\n",
    "#키를 통한 값 접근\n",
    "person = {\"name\": \"bob\", \"age\":30, \"city\": \"New York\"}\n",
    "print(person[\"name\"]) # bob\n",
    "print(person[\"city\"]) # new york\n",
    "\n",
    "#값 수정\n",
    "person[\"age\"] = 15\n",
    "print(person[\"age\"]) # 15\n",
    "\n",
    "#키에 대응하는 값 반환 (get)\n",
    "info = {\"name\": \"Charile\", \"age\":22}\n",
    "print(info.get(\"name\")) # charlie\n",
    "\n",
    "#모든 키를 반환 (keys)\n",
    "print(info.keys()) # dict_keys(['name', 'age'])\n",
    "\n",
    "#모든 값을 반환 (values)\n",
    "print(info.values()) # 값: dict_values(['Charile', 22])\n",
    " \n",
    " #키-값 쌍을 튜플 형태로 반환 (items)\n",
    "print(info.items()) # 값: dict_items([('name', 'Charile'), ('age', 22)])"
   ]
  },
  {
   "cell_type": "code",
   "execution_count": 143,
   "metadata": {},
   "outputs": [
    {
     "name": "stdout",
     "output_type": "stream",
     "text": [
      "3\n",
      "8\n",
      "2\n",
      "-4\n",
      "<class 'int'>\n"
     ]
    }
   ],
   "source": [
    "#정수형 나눗셈\n",
    "\n",
    "x = 10\n",
    "y = 3\n",
    "result = x // y\n",
    "print(result)\n",
    "\n",
    "# 정수형 거듭제곱\n",
    "x = 2\n",
    "y = 3\n",
    "result1 = x ** y\n",
    "print(result1)\n",
    "\n",
    "# 정수형 나머지 연산\n",
    "a = 17\n",
    "b= 5\n",
    "print( a%5)\n",
    "\n",
    "# 음수와 정수의 나눗셈\n",
    "x = -15\n",
    "y = 4\n",
    "result = x // y\n",
    "print(result)\n",
    "\n",
    "#숫자형 변환\n",
    "x = \"123\"\n",
    "result = int(x)\n",
    "print(type(result))\n",
    "\n"
   ]
  },
  {
   "cell_type": "code",
   "execution_count": 5,
   "metadata": {},
   "outputs": [
    {
     "name": "stdout",
     "output_type": "stream",
     "text": [
      "3\n",
      "ell\n",
      "orrange\n",
      "Alice\n",
      "2\n"
     ]
    }
   ],
   "source": [
    "#숫자형 연산\n",
    "x = 15\n",
    "y = 4\n",
    "print(x % y)\n",
    "\n",
    "#문자열 슬라이싱\n",
    "text = \"hello\"\n",
    "print(text[1:4])\n",
    "\n",
    "#list\n",
    "fruits= [\"apple\", \"banana\", \"cherry\"]\n",
    "fruits.append(\"orrange\")\n",
    "print(fruits[-1])\n",
    "\n",
    "#딕셔너리\n",
    "person = {\"name\": \"Alice\", \"Age\": 25, \"city\": \"Seoul\"}\n",
    "print(person[\"name\"])\n",
    "\n",
    "#튜플\n",
    "numbers = (1,2,3)\n",
    "print(numbers[1])\n"
   ]
  },
  {
   "cell_type": "code",
   "execution_count": 29,
   "metadata": {},
   "outputs": [
    {
     "name": "stdout",
     "output_type": "stream",
     "text": [
      "8\n",
      "2\n",
      "3\n",
      "dict_keys([1, 2, 3])\n",
      "dict_values(['one', 'two', 'three'])\n",
      "123123\n",
      "axaxaxoxoxox\n"
     ]
    }
   ],
   "source": [
    "person = \"arigatto\"\n",
    "print(person.__len__())\n",
    "print(person.count(\"a\"))\n",
    "\n",
    "list1 = [1,2,3]\n",
    "print(list1.__len__())\n",
    "\n",
    "dic2 = {1: \"one\", 2: \"two\", 3: \"three\"}\n",
    "print(dic2.keys())\n",
    "print(dic2.values())\n",
    "\n",
    "temp = \"123123\"\n",
    "print(int(temp))\n",
    "\n",
    "a= \"oxoxoxoxoxox\"\n",
    "print(a.replace(\"ox\",\"ax\",3))\n"
   ]
  },
  {
   "cell_type": "code",
   "execution_count": 37,
   "metadata": {},
   "outputs": [
    {
     "name": "stdout",
     "output_type": "stream",
     "text": [
      "테스트에 합격했습니다\n",
      "홀수입니다\n",
      "80\n",
      "조건을 만족합니다\n"
     ]
    }
   ],
   "source": [
    "#if문\n",
    "#조건에 따라 코드 블록을 실행할 지 결정하는 제어문으로서 조건식이 True일 경우에만 특정 코드를 실행\n",
    "# 조건식의 결과는 True 또는 False로 나타나야 하고, 코드 블록은 들여쓰기로 구분되고, \n",
    "# 콜론(:)기호로 조건식의 끝을 표시\n",
    "\n",
    "#단순 if\n",
    "score = 85\n",
    "if score > 80:\n",
    "    print(\"테스트에 합격했습니다\")\n",
    "\n",
    "#if-else문\n",
    "# 조건이 참일 때와 거짓일 때 각각 다른 코드로 실행\n",
    "number = 5\n",
    "if number % 2 == 0:  # %는 나머지를 구하는 연산자\n",
    "    print(\"짝수입니다\" )\n",
    "else:\n",
    "    print(\"홀수입니다\") \n",
    "\n",
    "#if-elif-else\n",
    "# 여러 조건 중 하나만 선택하여 실행\n",
    "score = 85\n",
    "if score >= 90:\n",
    "    print(\"A학점\")\n",
    "elif score >= 80:\n",
    "    print(\"80\")\n",
    "else:\n",
    "    print(\"C학점\")\n",
    "\n",
    "#조건식 간단화: 복잡한 조건은 논리 연산자(and,or,not)를 사용\n",
    "#중첩 피하기: 여러 조건은 elif로 나누어 가독성 향상\n",
    "#디버깅 편리: print()문으로 조건 결과 확인\n",
    "x, y= 10, 20\n",
    "if x > 5 and y < 30:\n",
    "    print(\"조건을 만족합니다\")"
   ]
  },
  {
   "cell_type": "code",
   "execution_count": 42,
   "metadata": {},
   "outputs": [
    {
     "name": "stdout",
     "output_type": "stream",
     "text": [
      "2\n",
      "4\n",
      "6\n",
      "8\n",
      "10\n",
      "현재 값: 1\n",
      "현재 값: 2\n",
      "현재 값: 3\n",
      "현재 값: 4\n",
      "현재 값: 5\n",
      "i:1, j:1\n",
      "i:1, j:2\n",
      "i:2, j:1\n",
      "i:2, j:2\n",
      "i:3, j:1\n",
      "i:3, j:2\n",
      "인덱스: 0: a\n",
      "인덱스: 1: b\n",
      "인덱스: 2: c\n"
     ]
    }
   ],
   "source": [
    "#반복문\n",
    "#for문\n",
    "#반복 가능한 객체(리스트,튜플,문자열 등)의 각 요소를 순회하며 코드를 실행하는 반복문\n",
    "#특정 작업을 반복적으로 수행할 때 사용하고, 반복 횟수를 명확히 제어 가능\n",
    "#기본 for문\n",
    "numbers = {1,2,3,4,5}\n",
    "for num in numbers:\n",
    "    print(num*2)\n",
    "\n",
    "#range() 함수로 반복 횟수를 지정\n",
    "#range(시작값,종료값,증가값)\n",
    "\n",
    "for i in range(1,6):\n",
    "    print(f\"현재 값: {i}\")\n",
    "    \n",
    "#중첩 for문\n",
    "#반복문 안에 또 다른 반복문 포함\n",
    "#안쪽에 있는 for문이 완전히 실행된 후에 바깥쪽 for문이\n",
    "#실행되면서 반복되는 구조\n",
    "\n",
    "for i in range(1,4):\n",
    "    for j in range(1,3):\n",
    "        print(f\"i:{i}, j:{j}\")\n",
    "\n",
    "#enumerate() 함께 사용 시\n",
    "#enumerate() 함수는 시퀀스(리스트,튜플,문자열 등)를 순회하면서 \n",
    "# 각요소의 인덱스와 값을 튜플 형태로 함께 반환하는 내장함수\n",
    "# 반복문을 돌면서 현재 어떤 인덱스의 값을 처리하고 있는 지 알고 싶을 때 용이\n",
    "items = [\"a\", \"b\", \"c\"]\n",
    "for idx, item in enumerate(items):\n",
    "    print(f\"인덱스: {idx}: {item}\")"
   ]
  },
  {
   "cell_type": "code",
   "execution_count": 10,
   "metadata": {},
   "outputs": [
    {
     "name": "stdout",
     "output_type": "stream",
     "text": [
      "Count: 0\n",
      "Count: 1\n",
      "Count: 2\n",
      "Count: 3\n",
      "Count: 4\n",
      "5\n",
      "4\n",
      "3\n",
      "2\n",
      "1\n",
      "반복 종료\n",
      "1\n",
      "3\n",
      "5\n",
      "7\n"
     ]
    }
   ],
   "source": [
    "#while문\n",
    "#조건이 참(True)인 동안 특정 코드를 반복 실행하는 반복문으로\n",
    "#반복 횟수를 사전에 알 수 없을때 주로 사용\n",
    "#조건식의 값이 변하지 않으면 무한 루프가 발생할 수 있음\n",
    "\n",
    "#기본 for문\n",
    "#종료 조건을 명시적으로 설정해야 안전\n",
    "#조건식이 False가 되면 반복 종료\n",
    "count = 0\n",
    "while count < 5:\n",
    "    print(f\"Count: {count}\")\n",
    "    count += 1\n",
    "\n",
    "#무한 루프\n",
    "#종료 조건 없이 True를 조건식으로 설정\n",
    "#반드시 break문으로 종료 조건 설정\n",
    "\n",
    "while True:\n",
    "    user_input = input(\"종료하려면 'exit' 입력: \")\n",
    "    if user_input == \"exit\":\n",
    "        break\n",
    "\n",
    "#조건과 else 사용\n",
    "# 조건이 False로 바뀌면 else 블록 실행\n",
    "\n",
    "x = 5\n",
    "while x > 0:\n",
    "    print(x)\n",
    "    x -= 1\n",
    "else:\n",
    "    print(\"반복 종료\")\n",
    "\n",
    "#break & continue 사용\n",
    "#continue : continue 아래의 코드는 실행되지 않고, 반복문의 조건 검사로 다시 돌아감\n",
    "#break: break를 만나면 반복문을 벗어나게 되고 반복문 종료\n",
    "\n",
    "n = 0\n",
    "while n < 10:\n",
    "    n += 1\n",
    "    if n%2 == 0:\n",
    "        continue #짝수는 출력 건너뜀\n",
    "    print(n)\n",
    "    if n == 7:\n",
    "        break"
   ]
  },
  {
   "cell_type": "code",
   "execution_count": 28,
   "metadata": {},
   "outputs": [
    {
     "name": "stdout",
     "output_type": "stream",
     "text": [
      "[8, 5, 3, 2, 1]\n",
      "['p', 'y', 't', 'h', 'o', 'n']\n"
     ]
    }
   ],
   "source": [
    "#1. 주어진 리스트를 내림차순으로 정렬하는 코드를 작성하세요. 입력 예시: [5, 3, 8, 1, 2] 출력 예시: [8, 5, 3, 2, 1] 힌트: 내림차순 정렬을 위해 'reverse=True' 옵션을 사용해보세요.\n",
    "asd = [5,3,8,1,2]\n",
    "sort_asd = sorted(asd,reverse=True)\n",
    "print(sort_asd)\n",
    "\n",
    "#2. 주어진 문자열을 내림차순으로 정렬하는 코드를 작성하세요. 입력 예시: 'python' 출력 예시: 'ytphon' 힌트: 문자열을 리스트로 바꾸고 정렬한 후 다시 문자열로 합쳐보세요.\n",
    "python1 = \"python\"\n",
    "result = list(python1)\n",
    "print(result)\n",
    "# sorted_result = ''.join(sorted(result,reverse=True))\n",
    "\n",
    "# print(sorted_result)\n",
    "\n",
    "#3. .딕셔너리를 값 기준으로 내림차순으로 정렬하는 코드를 작성하세요. \n",
    "# 입력 예시: {'a': 3, 'c': 1, 'b': 2} 출력 예시: {'a': 3, 'b': 2, 'c': 1} \n",
    "# 힌트: 딕셔너리의 items() 메서드를 사용하고, 'key'와 'reverse=True' 옵션을 사용하세요.\n",
    "\n",
    "\n"
   ]
  }
 ],
 "metadata": {
  "kernelspec": {
   "display_name": ".venv",
   "language": "python",
   "name": "python3"
  },
  "language_info": {
   "codemirror_mode": {
    "name": "ipython",
    "version": 3
   },
   "file_extension": ".py",
   "mimetype": "text/x-python",
   "name": "python",
   "nbconvert_exporter": "python",
   "pygments_lexer": "ipython3",
   "version": "3.12.8"
  }
 },
 "nbformat": 4,
 "nbformat_minor": 2
}
